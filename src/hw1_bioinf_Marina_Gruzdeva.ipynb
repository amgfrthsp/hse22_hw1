{
  "nbformat": 4,
  "nbformat_minor": 0,
  "metadata": {
    "colab": {
      "provenance": [],
      "collapsed_sections": []
    },
    "kernelspec": {
      "name": "python3",
      "display_name": "Python 3"
    },
    "language_info": {
      "name": "python"
    }
  },
  "cells": [
    {
      "cell_type": "code",
      "execution_count": 16,
      "metadata": {
        "id": "IiTBxulagi-z"
      },
      "outputs": [],
      "source": [
        "def contigs(filename):\n",
        "  f = open(filename, \"r\")\n",
        "  lines = f.readlines()\n",
        "  contigs = list()\n",
        "  current_contig = \"\"\n",
        "  max_contig = 0;\n",
        "  sum_len = 0;\n",
        "  for line in lines:\n",
        "    if (line[0].startswith('>')):\n",
        "      if current_contig != \"\":\n",
        "        contigs.append(current_contig)\n",
        "        max_contig = max(max_contig, len(current_contig))\n",
        "        sum_len = sum_len + len(current_contig)\n",
        "        current_contig = \"\"\n",
        "    else:\n",
        "      current_contig += line\n",
        "  if current_contig != \"\":\n",
        "      contigs.append(current_contig)\n",
        "      max_contig = max(max_contig, len(current_contig))\n",
        "      sum_len = sum_len + len(current_contig)\n",
        "\n",
        "  contigs_cnt = len(contigs)\n",
        "\n",
        "  lens = [len(x) for x in contigs]\n",
        "  lens.sort(reverse=True)\n",
        "  sum = 0\n",
        "  N50 = 0\n",
        "  for e in lens:\n",
        "    sum += e\n",
        "    if sum * 2 >= sum_len:\n",
        "      N50 = e\n",
        "      break\n",
        "  return \"Contigs:\\n Overall number={}\\n Maximum contig length={}\\n Sum of contig lengths={}\\n N50={}\".format(contigs_cnt, max_contig, sum_len, N50)"
      ]
    },
    {
      "cell_type": "code",
      "source": [
        "print(contigs(\"contig.fa\"))"
      ],
      "metadata": {
        "id": "Y-A4ljLglURL",
        "colab": {
          "base_uri": "https://localhost:8080/"
        },
        "outputId": "641ac30d-ec67-42cc-b374-0ccebbec47ad"
      },
      "execution_count": 17,
      "outputs": [
        {
          "output_type": "stream",
          "name": "stdout",
          "text": [
            "Contigs:\n",
            " Overall number=625\n",
            " Maximum contig length=181549\n",
            " Sum of contig lengths=3976105\n",
            " N50=54653\n"
          ]
        }
      ]
    },
    {
      "cell_type": "code",
      "source": [
        "def scaffolds(filename, longest=False):\n",
        "  f = open(filename, \"r\")\n",
        "  lines = f.readlines()\n",
        "  scaffolds = list()\n",
        "  names = list()\n",
        "  current_scaffold = \"\"\n",
        "  max_scaffold = 0;\n",
        "  sum_len = 0;\n",
        "  for line in lines:\n",
        "    if (line[0].startswith('>')):\n",
        "      names.append(line)\n",
        "      if current_scaffold != \"\":\n",
        "        scaffolds.append(current_scaffold)\n",
        "        max_scaffold = max(max_scaffold, len(current_scaffold))\n",
        "        sum_len = sum_len + len(current_scaffold)\n",
        "        current_scaffold = \"\"\n",
        "    else:\n",
        "      current_scaffold += line\n",
        "  if current_scaffold != \"\":\n",
        "      scaffolds.append(current_scaffold)\n",
        "      max_scaffold = max(max_scaffold, len(current_scaffold))\n",
        "      sum_len = sum_len + len(current_scaffold)\n",
        "\n",
        "  scaffolds_cnt = len(scaffolds)\n",
        "\n",
        "  lens = [len(x) for x in scaffolds]\n",
        "  lens.sort(reverse=True)\n",
        "  sum = 0\n",
        "  N50 = 0\n",
        "  for e in lens:\n",
        "    sum += e\n",
        "    if sum * 2 >= sum_len:\n",
        "      N50 = e\n",
        "      break\n",
        "\n",
        "  i = lens.index(max(lens))\n",
        "  gap_len = scaffolds[i].count('N')\n",
        "\n",
        "  if longest:\n",
        "    f = open(\"longest.fa\", \"w\")\n",
        "    f.write(names[i])\n",
        "    f.write(\"\\n\")\n",
        "    f.write(scaffolds[i])\n",
        "    f.close()\n",
        "\n",
        "  gap_cnt = 0\n",
        "  f = 0\n",
        "  for c in scaffolds[i]:\n",
        "    if c == 'N':\n",
        "      f = 1\n",
        "    if f and c != 'N':\n",
        "      gap_cnt = gap_cnt + 1\n",
        "      f = 0\n",
        "  gap_cnt = gap_cnt + f\n",
        "\n",
        "  return f\"Scaffolds:\\n Overall number={scaffolds_cnt}\\n Maximum scaffold length={max_scaffold}\\n Sum of scaffold lengths={sum_len}\\n N50={N50}\\n Longest gap={gap_len}\\n Number of gaps={gap_cnt}\""
      ],
      "metadata": {
        "id": "ivHCbo6Ymhae"
      },
      "execution_count": 18,
      "outputs": []
    },
    {
      "cell_type": "code",
      "source": [
        "print(scaffolds(\"scaffold.fa\"))"
      ],
      "metadata": {
        "colab": {
          "base_uri": "https://localhost:8080/"
        },
        "id": "DDh3zbVNmhvi",
        "outputId": "b0e60c61-aaf7-441d-8dd7-a6054bd70f68"
      },
      "execution_count": 19,
      "outputs": [
        {
          "output_type": "stream",
          "name": "stdout",
          "text": [
            "Scaffolds:\n",
            " Overall number=71\n",
            " Maximum scaffold length=3886878\n",
            " Sum of scaffold lengths=3922931\n",
            " N50=3886878\n",
            " Longest gap=8017\n",
            " Number of gaps=164\n"
          ]
        }
      ]
    },
    {
      "cell_type": "markdown",
      "source": [
        "Уменьшили гэпы:"
      ],
      "metadata": {
        "id": "-g41T5nmqIso"
      }
    },
    {
      "cell_type": "code",
      "source": [
        "print(scaffolds(\"scaffolds_trimmed.fa\"))"
      ],
      "metadata": {
        "colab": {
          "base_uri": "https://localhost:8080/"
        },
        "id": "to_3MIsOqHaW",
        "outputId": "a80a2589-3a87-44b6-c9be-78373fd06642"
      },
      "execution_count": 20,
      "outputs": [
        {
          "output_type": "stream",
          "name": "stdout",
          "text": [
            "Scaffolds:\n",
            " Overall number=71\n",
            " Maximum scaffold length=3924446\n",
            " Sum of scaffold lengths=3960718\n",
            " N50=3924446\n",
            " Longest gap=2953\n",
            " Number of gaps=46\n"
          ]
        }
      ]
    }
  ]
}